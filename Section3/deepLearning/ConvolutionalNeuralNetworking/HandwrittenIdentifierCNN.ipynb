{
 "cells": [
  {
   "cell_type": "code",
   "execution_count": 1,
   "metadata": {},
   "outputs": [],
   "source": [
    "# dataset: https://github.com/MartinThoma/HASY\n",
    "# 369 categories\n",
    "# 168,233 images, some categories have more images than others"
   ]
  },
  {
   "cell_type": "code",
   "execution_count": 2,
   "metadata": {},
   "outputs": [],
   "source": [
    "from IPython.display import Image"
   ]
  },
  {
   "cell_type": "code",
   "execution_count": 3,
   "metadata": {},
   "outputs": [
    {
     "data": {
      "text/html": [
       "<img src=\"HASYv2/hasy-data/v2-00010.png\"/>"
      ],
      "text/plain": [
       "<IPython.core.display.Image object>"
      ]
     },
     "execution_count": 3,
     "metadata": {},
     "output_type": "execute_result"
    }
   ],
   "source": [
    "# example from the dataset\n",
    "\n",
    "Image(url=\"HASYv2/hasy-data/v2-00010.png\")"
   ]
  },
  {
   "cell_type": "code",
   "execution_count": 4,
   "metadata": {},
   "outputs": [],
   "source": [
    "import csv\n",
    "from PIL import Image as pil_image\n",
    "import keras.preprocessing.image"
   ]
  },
  {
   "cell_type": "code",
   "execution_count": 6,
   "metadata": {},
   "outputs": [],
   "source": [
    "# Load all images (as numpy arrays) and save their classes\n",
    "\n",
    "imgs = []\n",
    "classes = []\n",
    "with open('HASYv2/hasy-data-labels.csv') as csvfile:\n",
    "    csvreader = csv.reader(csvfile)\n",
    "    i = 0\n",
    "    for row in csvreader:\n",
    "        if i > 0:\n",
    "            img = keras.preprocessing.image.img_to_array(pil_image.open(\"HASYv2/\" + row[0]))\n",
    "            # neuron activation functions behave best when input values are between 0.0 and 1.0 (-1.0 and 1.0),\n",
    "            # so we rescale each pixel value to be in the range 0.0 to 1.0 istead of 0-255\n",
    "            img /= 255.0\n",
    "            imgs.append((row[0], row[2], img))\n",
    "            classes.append(row[2])\n",
    "        i += 1"
   ]
  },
  {
   "cell_type": "code",
   "execution_count": 7,
   "metadata": {},
   "outputs": [
    {
     "data": {
      "text/plain": [
       "('hasy-data/v2-00000.png', 'A', array([[[1., 1., 1.],\n",
       "         [1., 1., 1.],\n",
       "         [1., 1., 1.],\n",
       "         ...,\n",
       "         [1., 1., 1.],\n",
       "         [1., 1., 1.],\n",
       "         [1., 1., 1.]],\n",
       " \n",
       "        [[1., 1., 1.],\n",
       "         [1., 1., 1.],\n",
       "         [1., 1., 1.],\n",
       "         ...,\n",
       "         [1., 1., 1.],\n",
       "         [1., 1., 1.],\n",
       "         [1., 1., 1.]],\n",
       " \n",
       "        [[1., 1., 1.],\n",
       "         [1., 1., 1.],\n",
       "         [1., 1., 1.],\n",
       "         ...,\n",
       "         [1., 1., 1.],\n",
       "         [1., 1., 1.],\n",
       "         [1., 1., 1.]],\n",
       " \n",
       "        ...,\n",
       " \n",
       "        [[1., 1., 1.],\n",
       "         [1., 1., 1.],\n",
       "         [1., 1., 1.],\n",
       "         ...,\n",
       "         [1., 1., 1.],\n",
       "         [1., 1., 1.],\n",
       "         [1., 1., 1.]],\n",
       " \n",
       "        [[1., 1., 1.],\n",
       "         [1., 1., 1.],\n",
       "         [1., 1., 1.],\n",
       "         ...,\n",
       "         [1., 1., 1.],\n",
       "         [1., 1., 1.],\n",
       "         [1., 1., 1.]],\n",
       " \n",
       "        [[1., 1., 1.],\n",
       "         [1., 1., 1.],\n",
       "         [1., 1., 1.],\n",
       "         ...,\n",
       "         [1., 1., 1.],\n",
       "         [1., 1., 1.],\n",
       "         [1., 1., 1.]]], dtype=float32))"
      ]
     },
     "execution_count": 7,
     "metadata": {},
     "output_type": "execute_result"
    }
   ],
   "source": [
    "imgs[0]"
   ]
  },
  {
   "cell_type": "code",
   "execution_count": 8,
   "metadata": {},
   "outputs": [
    {
     "data": {
      "text/plain": [
       "168233"
      ]
     },
     "execution_count": 8,
     "metadata": {},
     "output_type": "execute_result"
    }
   ],
   "source": [
    "len(imgs)"
   ]
  },
  {
   "cell_type": "code",
   "execution_count": 13,
   "metadata": {},
   "outputs": [],
   "source": [
    "# shuffle the data, split into 80% train, 20% test\n",
    "\n",
    "import random\n",
    "random.shuffle(imgs)\n",
    "split_idx = int(0.8*len(imgs))\n",
    "train = imgs[:split_idx]\n",
    "test = imgs[split_idx:]"
   ]
  },
  {
   "cell_type": "code",
   "execution_count": 14,
   "metadata": {},
   "outputs": [],
   "source": [
    "import numpy as np\n",
    "\n",
    "train_input = np.asarray(list(map(lambda row: row[2], train)))\n",
    "test_input = np.asarray(list(map(lambda row: row[2], test)))\n",
    "\n",
    "train_output = np.asarray(list(map(lambda row: row[1], train)))\n",
    "test_output = np.asarray(list(map(lambda row: row[1], test)))"
   ]
  },
  {
   "cell_type": "code",
   "execution_count": 15,
   "metadata": {},
   "outputs": [],
   "source": [
    "from sklearn.preprocessing import LabelEncoder\n",
    "from sklearn.preprocessing import OneHotEncoder"
   ]
  },
  {
   "cell_type": "code",
   "execution_count": 16,
   "metadata": {},
   "outputs": [
    {
     "name": "stderr",
     "output_type": "stream",
     "text": [
      "/usr/local/lib/python3.7/site-packages/sklearn/preprocessing/_encoders.py:368: FutureWarning: The handling of integer data will change in version 0.22. Currently, the categories are determined based on the range [0, max(values)], while in the future they will be determined based on the unique values.\n",
      "If you want the future behaviour and silence this warning, you can specify \"categories='auto'\".\n",
      "In case you used a LabelEncoder before this OneHotEncoder to convert the categories to integers, then you can now use the OneHotEncoder directly.\n",
      "  warnings.warn(msg, FutureWarning)\n"
     ]
    },
    {
     "name": "stdout",
     "output_type": "stream",
     "text": [
      "Number of classes: 369\n"
     ]
    }
   ],
   "source": [
    "# convert classes names into one-hot encoding\n",
    "\n",
    "#first, convert class names into integers\n",
    "label_encoder = LabelEncoder()\n",
    "integer_encoded = label_encoder.fit_transform(classes)\n",
    "\n",
    "# then convert integers into on-hot encoding\n",
    "onehot_encoder = OneHotEncoder(sparse=False)\n",
    "integer_encoded = integer_encoded.reshape(len(integer_encoded), 1)\n",
    "onehot_encoder.fit(integer_encoded)\n",
    "\n",
    "# convert train and test output to one-hot\n",
    "train_output_int = label_encoder.transform(train_output)\n",
    "train_output = onehot_encoder.transform(train_output_int.reshape(len(train_output_int), 1))\n",
    "test_output_int = label_encoder.transform(test_output)\n",
    "test_output = onehot_encoder.transform(test_output_int.reshape(len(test_output_int), 1))\n",
    "\n",
    "num_classes = len(label_encoder.classes_)\n",
    "print(\"Number of classes: %d\" % num_classes)"
   ]
  },
  {
   "cell_type": "code",
   "execution_count": 17,
   "metadata": {},
   "outputs": [],
   "source": [
    "from keras.models import Sequential\n",
    "from keras.layers import Dense, Dropout, Flatten\n",
    "from keras.layers import Conv2D, MaxPooling2D"
   ]
  },
  {
   "cell_type": "code",
   "execution_count": 19,
   "metadata": {},
   "outputs": [
    {
     "name": "stdout",
     "output_type": "stream",
     "text": [
      "_________________________________________________________________\n",
      "Layer (type)                 Output Shape              Param #   \n",
      "=================================================================\n",
      "conv2d_3 (Conv2D)            (None, 30, 30, 32)        896       \n",
      "_________________________________________________________________\n",
      "max_pooling2d_3 (MaxPooling2 (None, 15, 15, 32)        0         \n",
      "_________________________________________________________________\n",
      "conv2d_4 (Conv2D)            (None, 13, 13, 32)        9248      \n",
      "_________________________________________________________________\n",
      "max_pooling2d_4 (MaxPooling2 (None, 6, 6, 32)          0         \n",
      "_________________________________________________________________\n",
      "flatten_2 (Flatten)          (None, 1152)              0         \n",
      "_________________________________________________________________\n",
      "dense_2 (Dense)              (None, 1024)              1180672   \n",
      "_________________________________________________________________\n",
      "dropout_2 (Dropout)          (None, 1024)              0         \n",
      "_________________________________________________________________\n",
      "dense_3 (Dense)              (None, 369)               378225    \n",
      "=================================================================\n",
      "Total params: 1,569,041\n",
      "Trainable params: 1,569,041\n",
      "Non-trainable params: 0\n",
      "_________________________________________________________________\n",
      "None\n"
     ]
    }
   ],
   "source": [
    "model = Sequential()\n",
    "model.add(Conv2D(32, kernel_size=(3,3), activation='relu',\n",
    "                input_shape=np.shape(train_input[0])))\n",
    "model.add(MaxPooling2D(pool_size=(2,2)))\n",
    "model.add(Conv2D(32, (3,3), activation='relu'))\n",
    "model.add(MaxPooling2D(pool_size=(2,2)))\n",
    "model.add(Flatten())\n",
    "model.add(Dense(1024, activation='tanh'))\n",
    "model.add(Dropout(0.5))\n",
    "model.add(Dense(num_classes, activation='softmax'))\n",
    "\n",
    "model.compile(loss='categorical_crossentropy', optimizer='adam', metrics=['accuracy'])\n",
    "\n",
    "print(model.summary())"
   ]
  },
  {
   "cell_type": "code",
   "execution_count": 21,
   "metadata": {},
   "outputs": [
    {
     "name": "stderr",
     "output_type": "stream",
     "text": [
      "/usr/local/Cellar/python/3.7.3/Frameworks/Python.framework/Versions/3.7/lib/python3.7/importlib/_bootstrap.py:219: RuntimeWarning: numpy.ufunc size changed, may indicate binary incompatibility. Expected 216, got 192\n",
      "  return f(*args, **kwds)\n"
     ]
    }
   ],
   "source": [
    "import keras.callbacks\n",
    "tensorboard = keras.callbacks.TensorBoard(log_dir='./logs/mnist-style')"
   ]
  },
  {
   "cell_type": "code",
   "execution_count": 22,
   "metadata": {},
   "outputs": [
    {
     "name": "stdout",
     "output_type": "stream",
     "text": [
      "WARNING:tensorflow:From /usr/local/lib/python3.7/site-packages/tensorflow/python/ops/math_ops.py:3066: to_int32 (from tensorflow.python.ops.math_ops) is deprecated and will be removed in a future version.\n",
      "Instructions for updating:\n",
      "Use tf.cast instead.\n",
      "Train on 107668 samples, validate on 26918 samples\n",
      "Epoch 1/10\n",
      " - 263s - loss: 1.5272 - acc: 0.6313 - val_loss: 0.9558 - val_acc: 0.7352\n",
      "Epoch 2/10\n",
      " - 266s - loss: 0.9506 - acc: 0.7358 - val_loss: 0.8662 - val_acc: 0.7622\n",
      "Epoch 3/10\n",
      " - 273s - loss: 0.8367 - acc: 0.7585 - val_loss: 0.8145 - val_acc: 0.7673\n",
      "Epoch 4/10\n",
      " - 273s - loss: 0.7645 - acc: 0.7749 - val_loss: 0.8269 - val_acc: 0.7697\n",
      "Epoch 5/10\n",
      " - 260s - loss: 0.7132 - acc: 0.7843 - val_loss: 0.8390 - val_acc: 0.7676\n",
      "Epoch 6/10\n",
      " - 263s - loss: 0.6737 - acc: 0.7928 - val_loss: 0.8274 - val_acc: 0.7754\n",
      "Epoch 7/10\n",
      " - 259s - loss: 0.6400 - acc: 0.8002 - val_loss: 0.8492 - val_acc: 0.7684\n",
      "Epoch 8/10\n",
      " - 266s - loss: 0.6133 - acc: 0.8067 - val_loss: 0.8717 - val_acc: 0.7567\n",
      "Epoch 9/10\n",
      " - 263s - loss: 0.5915 - acc: 0.8119 - val_loss: 0.8570 - val_acc: 0.7760\n",
      "Epoch 10/10\n",
      " - 264s - loss: 0.5687 - acc: 0.8171 - val_loss: 0.8478 - val_acc: 0.7697\n"
     ]
    },
    {
     "data": {
      "text/plain": [
       "<keras.callbacks.History at 0x1288f19b0>"
      ]
     },
     "execution_count": 22,
     "metadata": {},
     "output_type": "execute_result"
    }
   ],
   "source": [
    "model.fit(train_input, train_output, \n",
    "          batch_size=32, \n",
    "          epochs=10,\n",
    "          verbose=2, \n",
    "          validation_split=0.2, \n",
    "          callbacks=[tensorboard])"
   ]
  },
  {
   "cell_type": "code",
   "execution_count": 23,
   "metadata": {},
   "outputs": [
    {
     "name": "stdout",
     "output_type": "stream",
     "text": [
      "Test loss:  0.8572115720507046\n",
      "Test accuracy:  0.7618212619341405\n"
     ]
    }
   ],
   "source": [
    "score = model.evaluate(test_input, test_output, verbose=2)\n",
    "print('Test loss: ', score[0])\n",
    "print('Test accuracy: ', score[1])"
   ]
  },
  {
   "cell_type": "code",
   "execution_count": null,
   "metadata": {},
   "outputs": [],
   "source": [
    "# try various model configurations and parameters to find the best\n",
    "\n",
    "import time\n",
    "\n",
    "results = []\n",
    "for conv2d_count in [1, 2]:\n",
    "    for dense_size in [128, 256, 512, 1024, 2048]:\n",
    "        for dropout in [0.0, 0.25, 0.50, 0.75]:\n",
    "            model = Sequential()\n",
    "            for i in range(conv2d_count):\n",
    "                if i == 0:\n",
    "                    model.add(Conv2D(32, kernel_size=(3,3), activation='relu', input_shape=np.shape(train_input[0])))\n",
    "                else:\n",
    "                    model.add(Con2D(32, kernel_size=(3,3), activation='relu'))\n",
    "                model.add(MaxPooling2D(pool_size=(2,2)))\n",
    "            model.add(Flatten())\n",
    "            model.add(Dense(dense_size, activation='tanh'))\n",
    "            if dropout > 0.0:\n",
    "                model.add(Dropout(dropout))\n",
    "            model.add(Dense(num_classes, activation='softmax'))\n",
    "            \n",
    "            model.compile(loss='categorical_crossentropy', optimizer='adam', metrics=['accuracy'])\n",
    "            \n",
    "            log_dir = './logs/conv2d_%d-dense_%d-dropout_%.2f' % (conv2d_count, dense_size, dropout)\n",
    "            tensorboard = keras.callbacks.TensorBoard(log_dir=log_dir)\n",
    "            \n",
    "            start = time.time()\n",
    "            model.fit(train_input, train_output, batch_size=32, epochs=10,\n",
    "                     verbose=0, validation_split=0.2, callbacks=[tensorboard])\n",
    "            score = model.evaluate(test_input, test_output, verbose=2)\n",
    "            end = time.time()\n",
    "            elapsed = end - start\n",
    "            print(\"Conv2D count: %d, Dense size: %d, Dropout: %.2f - Loss: %.2f, Acurracy: %.2f, Time: %d sec\" % \\\n",
    "                 (conv2d_count, dense_size, dropout, score[0], score[1], elapsed))\n",
    "            results.append((conv2d_count, dense_size, dropout, score[0], score[1], elapsed))"
   ]
  },
  {
   "cell_type": "code",
   "execution_count": null,
   "metadata": {},
   "outputs": [],
   "source": [
    "# rebuild/retrain a model with the best paramters (from the search) and use all data\n",
    "model = Sequential()\n",
    "model.add(Conv2D(32, kernel_size=(3,3), activation='relu', input_shape=np.shape(train_input[0])))\n",
    "model.add(MaxPooling2D(pool_size=(2,2)))\n",
    "model.add(Conv2D(32, (3,3), activation='relu'))\n",
    "model.add(MaxPooling2D(pool_size=(2,2)))\n",
    "model.add(Flatten())\n",
    "model.add(Dense(128, activation='tanh'))\n",
    "model.add(Dropout(0.5))\n",
    "model.add(Dense(num_classes, activation='softmax'))\n",
    "model.compile(loss='categorical_crossentropy', optimizer='adam', metrics=['accuracy'])\n",
    "print(model.summary())\n",
    "# join train and test data so we train the network on all  data we have avaliable to us\n",
    "model.fit(np.concatenate((train_input, test_input)),\n",
    "         np.concatenate((train_output, test_output)),\n",
    "         batch_size=32, epochs=10, verbose=2)\n",
    "\n",
    "# save the trained model\n",
    "model.save(\"mathsymbols.model\")\n",
    "\n",
    "# save label encoder (to reverse one-hot encoding)\n",
    "np.save(\"classes.npy\", label_encoder.classes_)"
   ]
  },
  {
   "cell_type": "code",
   "execution_count": null,
   "metadata": {},
   "outputs": [],
   "source": [
    "# Load the pre-trained model and predict the math symbol for an arbitrary image;\n",
    "# the code below could be placed on separate file\n",
    "\n",
    "import keras.models\n",
    "model2 = keras.models.load_model(\"mathsymbols.model\")\n",
    "print(model2.summary())\n",
    "\n",
    "# restore the class name to integer encoder\n",
    "label_encoder2 = LabelEncoder()\n",
    "label_encoder2.classes_ = np.load(\"classes.npy\")\n",
    "\n",
    "def predict(img_path):\n",
    "    newimg = keras.preprocessing.image.img_to_array(pil_image.open(img_path))\n",
    "    newimg /= 255.0\n",
    "    \n",
    "    # do the prediction\n",
    "    prediction = model2.predict(newimg.reshape(1, 32, 32, 3))\n",
    "    \n",
    "    \n",
    "    # figure out which output neuron had the highest score, and reverse the one-hot encoding\n",
    "    inverted = label_encoder2.inverse_transform([np.argmax(prediction)]) # argmax finds highest-scoring output\n",
    "    print(\"Prediction: %s, confidence: %.2f\" % (inverted[0], np.max(prediction)))"
   ]
  },
  {
   "cell_type": "code",
   "execution_count": null,
   "metadata": {},
   "outputs": [],
   "source": [
    "# grab an image (we'll just use a random training image for demonstration purposes)\n",
    "predict(\"HASYv2/hasy-data/v2-00010.png\")"
   ]
  },
  {
   "cell_type": "code",
   "execution_count": null,
   "metadata": {},
   "outputs": [],
   "source": [
    "predict(\"HASYv2/hasy-data/v2-00500.png\")"
   ]
  },
  {
   "cell_type": "code",
   "execution_count": null,
   "metadata": {},
   "outputs": [],
   "source": [
    "predict(\"HASYv2/hasy-data/v2-00070.png\")"
   ]
  }
 ],
 "metadata": {
  "kernelspec": {
   "display_name": "Python 3",
   "language": "python",
   "name": "python3"
  },
  "language_info": {
   "codemirror_mode": {
    "name": "ipython",
    "version": 3
   },
   "file_extension": ".py",
   "mimetype": "text/x-python",
   "name": "python",
   "nbconvert_exporter": "python",
   "pygments_lexer": "ipython3",
   "version": "3.7.3"
  }
 },
 "nbformat": 4,
 "nbformat_minor": 2
}
